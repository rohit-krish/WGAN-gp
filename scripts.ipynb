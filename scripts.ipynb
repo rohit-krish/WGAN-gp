{
 "cells": [
  {
   "cell_type": "code",
   "execution_count": 1,
   "metadata": {},
   "outputs": [],
   "source": [
    "import cv2\n",
    "import os\n",
    "\n",
    "def images_to_video(images_folder, output_video_path, fps=30):\n",
    "    # Get the list of image files in the folder\n",
    "    image_files = os.listdir(images_folder)\n",
    "\n",
    "    # Sort the files to ensure the images are in the correct order\n",
    "    image_files.sort(key=lambda x: x[:2])\n",
    "\n",
    "    # Get the first image to determine the frame size\n",
    "    first_image = cv2.imread(os.path.join(images_folder, image_files[0]))\n",
    "    height, width, _ = first_image.shape\n",
    "\n",
    "    # Create the video writer\n",
    "    fourcc = cv2.VideoWriter_fourcc(*\"mp4v\")  # Codec for mp4 video\n",
    "    video_writer = cv2.VideoWriter(output_video_path, fourcc, fps, (width, height))\n",
    "\n",
    "    # Write each image as a frame in the video\n",
    "    for image_file in image_files:\n",
    "        image_path = os.path.join(images_folder, image_file)\n",
    "        frame = cv2.imread(image_path)\n",
    "        video_writer.write(frame)\n",
    "\n",
    "    # Release the video writer and close the video file\n",
    "    video_writer.release()\n",
    "\n",
    "images_to_video('./logs/evolution/', './logs/res.mp4', 3)\n"
   ]
  },
  {
   "cell_type": "code",
   "execution_count": 11,
   "metadata": {},
   "outputs": [],
   "source": []
  }
 ],
 "metadata": {
  "kernelspec": {
   "display_name": "pytorch",
   "language": "python",
   "name": "python3"
  },
  "language_info": {
   "codemirror_mode": {
    "name": "ipython",
    "version": 3
   },
   "file_extension": ".py",
   "mimetype": "text/x-python",
   "name": "python",
   "nbconvert_exporter": "python",
   "pygments_lexer": "ipython3",
   "version": "3.10.10"
  },
  "orig_nbformat": 4
 },
 "nbformat": 4,
 "nbformat_minor": 2
}
